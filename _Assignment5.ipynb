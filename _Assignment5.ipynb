{
 "cells": [
  {
   "cell_type": "markdown",
   "id": "d334d252",
   "metadata": {},
   "source": [
    "# OOP Assignment"
   ]
  },
  {
   "cell_type": "markdown",
   "id": "272068d8",
   "metadata": {},
   "source": [
    "# Challenge 1: Square Numbers and Return Their Sum"
   ]
  },
  {
   "cell_type": "markdown",
   "id": "e353caa6",
   "metadata": {},
   "source": [
    "# Square numbers and return their sum"
   ]
  },
  {
   "cell_type": "code",
   "execution_count": 1,
   "id": "f2bd093c",
   "metadata": {},
   "outputs": [
    {
     "name": "stdout",
     "output_type": "stream",
     "text": [
      "35\n"
     ]
    }
   ],
   "source": [
    "class Point:\n",
    "    def __init__(self,x,y,z):\n",
    "        self.x=x\n",
    "        self.y=y\n",
    "        self.z=z\n",
    "    def sqSum(self):\n",
    "        return self.x**2+self.y**2+self.z**2\n",
    "p=Point(1,3,5)\n",
    "result = p.sqSum()\n",
    "print(result)"
   ]
  },
  {
   "cell_type": "markdown",
   "id": "b06fac9e",
   "metadata": {},
   "source": [
    "# Implement a calculator class"
   ]
  },
  {
   "cell_type": "code",
   "execution_count": 3,
   "id": "4d30bdca",
   "metadata": {},
   "outputs": [
    {
     "name": "stdout",
     "output_type": "stream",
     "text": [
      "104\n",
      "84\n",
      "940\n",
      "9.4\n"
     ]
    }
   ],
   "source": [
    "class Calculator:\n",
    "    def __init__(self,a,b):\n",
    "        self.a=a\n",
    "        self.b=b\n",
    "    def add(self):\n",
    "        return self.a+self.b\n",
    "    def sub(self):\n",
    "        return self.a-self.b\n",
    "    def mul(self):\n",
    "        return self.a*self.b\n",
    "    def div(self):\n",
    "        return self.a/self.b\n",
    "c= Calculator(94,10)\n",
    "print(c.add())\n",
    "print(c.sub())\n",
    "print(c.mul())\n",
    "print(c.div())"
   ]
  },
  {
   "cell_type": "markdown",
   "id": "0cd0832a",
   "metadata": {},
   "source": [
    "# Implement the complete student class"
   ]
  },
  {
   "cell_type": "code",
   "execution_count": 4,
   "id": "2656189e",
   "metadata": {},
   "outputs": [
    {
     "name": "stdout",
     "output_type": "stream",
     "text": [
      "Name: lakshmi\n",
      "Rollnumber: 34\n"
     ]
    }
   ],
   "source": [
    "class Student:\n",
    "    def setName(self,Name):\n",
    "        self.__Name=Name\n",
    "    def getName(self):\n",
    "        return self.__Name\n",
    "    def setRollnumber(self,Rollnumber):\n",
    "        self.__Rollnumber=Rollnumber\n",
    "    def getRollnumber(self):\n",
    "        return self.__Rollnumber\n",
    "x=Student()\n",
    "x.setName(\"lakshmi\")\n",
    "x.setRollnumber(\"34\")\n",
    "print(\"Name:\",x.getName())\n",
    "print(\"Rollnumber:\",x.getRollnumber())\n"
   ]
  },
  {
   "cell_type": "markdown",
   "id": "ebc69056",
   "metadata": {},
   "source": [
    "# Implement a banking account"
   ]
  },
  {
   "cell_type": "code",
   "execution_count": 5,
   "id": "9fdec3ae",
   "metadata": {},
   "outputs": [
    {
     "name": "stdout",
     "output_type": "stream",
     "text": [
      "Adi\n",
      "7000\n",
      "5\n"
     ]
    }
   ],
   "source": [
    "class Account:\n",
    "    def __init__(self,title=0,balance=0):\n",
    "        self.title=title\n",
    "        self.balance=balance\n",
    "class SavingsAccount(Account):\n",
    "    def __init__(self,interestrate=0):\n",
    "        self.interestrate=interestrate\n",
    "        \n",
    "x=Account(\"Adi\",7000)\n",
    "print(x.title)\n",
    "print(x.balance)\n",
    "y=SavingsAccount(5)\n",
    "print(y.interestrate)"
   ]
  },
  {
   "cell_type": "markdown",
   "id": "018d2b8c",
   "metadata": {},
   "source": [
    "# Handling a banking account"
   ]
  },
  {
   "cell_type": "code",
   "execution_count": 8,
   "id": "4c25f1cb",
   "metadata": {},
   "outputs": [
    {
     "name": "stdout",
     "output_type": "stream",
     "text": [
      "balance 5540\n",
      "Balance after deposit: 6540\n",
      "Balance after withdrawl: 6040\n",
      "interestamount: 181.2\n"
     ]
    }
   ],
   "source": [
    "class Account:\n",
    "    def __init__(self,title=None,balance=0):\n",
    "        self.title=title\n",
    "        self.balance=balance\n",
    "    def withdrawl(self,amount):\n",
    "        self.balance=self.balance-amount\n",
    "    def deposit(self,amount):\n",
    "        self.balance=self.balance+amount\n",
    "    def getbalance(self):\n",
    "        return self.balance    \n",
    "class SavingsAccount(Account):\n",
    "    def __init__(self,title=None,balance=0,interestrate=0):\n",
    "        super().__init__(title,balance)\n",
    "        self.interestrate=interestrate\n",
    "    def interestamount(self):\n",
    "        return(self.balance*self.interestrate)/100        \n",
    " \n",
    "x=SavingsAccount(\"lucky\",5540,3)\n",
    "print(\"balance\",x.getbalance())\n",
    "x.deposit(1000)\n",
    "print(\"Balance after deposit:\",x.getbalance())\n",
    "x.withdrawl(500)\n",
    "print(\"Balance after withdrawl:\",x.getbalance())\n",
    "print(\"interestamount:\",x.interestamount())"
   ]
  },
  {
   "cell_type": "code",
   "execution_count": null,
   "id": "d4558d0f",
   "metadata": {},
   "outputs": [],
   "source": []
  }
 ],
 "metadata": {
  "kernelspec": {
   "display_name": "Python 3 (ipykernel)",
   "language": "python",
   "name": "python3"
  },
  "language_info": {
   "codemirror_mode": {
    "name": "ipython",
    "version": 3
   },
   "file_extension": ".py",
   "mimetype": "text/x-python",
   "name": "python",
   "nbconvert_exporter": "python",
   "pygments_lexer": "ipython3",
   "version": "3.11.1"
  }
 },
 "nbformat": 4,
 "nbformat_minor": 5
}
